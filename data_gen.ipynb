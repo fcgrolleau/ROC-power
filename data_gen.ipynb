{
 "cells": [
  {
   "cell_type": "markdown",
   "metadata": {},
   "source": [
    "# Generate synthetic data non parametrically"
   ]
  },
  {
   "cell_type": "markdown",
   "metadata": {},
   "source": [
    "## Objectives\n",
    "- Understand the math desciption of a simulation study for medicine\n",
    "- Understand the code corresponding to this description\n",
    "- Adapt the data generating process for your own study"
   ]
  },
  {
   "cell_type": "markdown",
   "metadata": {},
   "source": [
    "### Description of the data generating process"
   ]
  },
  {
   "cell_type": "markdown",
   "metadata": {},
   "source": [
    "##### 1. Generate $p$ correlated features, $d$ of which are binary, others are log-normally distributed"
   ]
  },
  {
   "cell_type": "markdown",
   "metadata": {},
   "source": [
    "Sample an orthogonal matrix $O,$ (ie, a matrix such that $OO^\\top = I.)$"
   ]
  },
  {
   "cell_type": "markdown",
   "metadata": {},
   "source": [
    "Chose eigenvalues for the future variance covariance matrix of our $p$ features. For example:"
   ]
  },
  {
   "cell_type": "markdown",
   "metadata": {},
   "source": [
    "$$(\\lambda_{1},\\lambda_{2},\\dots,\\lambda_{p})= 1+ 0.2 \\times (1,2,\\dots,p).$$"
   ]
  },
  {
   "cell_type": "markdown",
   "metadata": {},
   "source": [
    "Generate the variance-covariance matrix $\\Sigma$ for our features as follows:"
   ]
  },
  {
   "cell_type": "markdown",
   "metadata": {},
   "source": [
    "$$      \n",
    "\\Sigma = O\n",
    "\\begin{bmatrix} \n",
    "\\lambda_{1} & 0               & \\dots  & 0\\\\\n",
    "0           & \\lambda_{2}     & \\ddots & \\vdots\\\\\n",
    "\\vdots      & \\ddots          & \\ddots & 0\\\\\n",
    "0           & \\dots           & 0      & \\lambda_{p}\n",
    "\\end{bmatrix}\n",
    "O^{T}\n",
    ".$$"
   ]
  },
  {
   "cell_type": "markdown",
   "metadata": {},
   "source": [
    "Sample our features from a multivariate normal distribution"
   ]
  },
  {
   "cell_type": "markdown",
   "metadata": {},
   "source": [
    "$$    \\left(X_{1}', X_{2}', \\ldots,  X_{p}' \\right)^{T} \\sim \\mathcal{N}(0,\\,\\Sigma).$$"
   ]
  },
  {
   "cell_type": "markdown",
   "metadata": {},
   "source": [
    "Binarize the fist $d$ featrues and exponentiate the remaining features so they appear log-noramally distributed"
   ]
  },
  {
   "cell_type": "markdown",
   "metadata": {},
   "source": [
    "$$(X_{1},\\dots,X_{d}) =\\big(\\text{I}\\{X_{1}'>0\\},\\dots,\\text{I}\\{X_{d}'>0\\}\\big),$$\n",
    "$$(X_{d+1},\\dots,X_{p}) =\\big(\\exp(X_{d+1}'),\\dots,\\exp(X_{p}')\\big).$$"
   ]
  },
  {
   "cell_type": "markdown",
   "metadata": {},
   "source": [
    "##### 2. Generate treatment $T$"
   ]
  },
  {
   "cell_type": "markdown",
   "metadata": {},
   "source": [
    "$$T|X \\sim  \\text{Bernoulli}(e(X))$$\n",
    "where $e(x)=\\mathbb{E}(T|X=x)$ denotes a propensity score function."
   ]
  },
  {
   "cell_type": "markdown",
   "metadata": {},
   "source": [
    "##### 3. Generate a continuous outcome $Y$"
   ]
  },
  {
   "cell_type": "markdown",
   "metadata": {},
   "source": [
    "$$Y|X \\sim \\mathcal{N}(b(X)+T\\tau(X),\\,\\sigma^2) \\$$\n",
    "where $b(x)=\\mathbb{E}(Y|T=0,X=x)$ denotes a baseline risk function, $\\tau(x)=\\mathbb{E}(Y|T=1,X=x)-\\mathbb{E}(Y|T=0,X=x)$ denotes the conditional average treatement effect function (CATE), and $\\sigma$ is a dispersion parameter adding Gaussian noise."
   ]
  },
  {
   "cell_type": "markdown",
   "metadata": {},
   "source": [
    "##### 4. Generate a binary outcome $Y_{bin}$"
   ]
  },
  {
   "cell_type": "markdown",
   "metadata": {},
   "source": [
    "$$Y_{bin}|X \\sim \\text{Bernoulli}\\big(\\text{expit}(b(X)+T\\tau(X))\\big) $$\n",
    "where $\\text{expit}(x)=\\frac{1}{1+\\exp(-x)}.$ "
   ]
  },
  {
   "cell_type": "markdown",
   "metadata": {},
   "source": [
    "### Programming the data generating process"
   ]
  },
  {
   "cell_type": "code",
   "execution_count": 8,
   "metadata": {},
   "outputs": [],
   "source": [
    "import numpy as np\n",
    "from scipy.stats import ortho_group\n",
    "from scipy.special import expit"
   ]
  },
  {
   "cell_type": "code",
   "execution_count": 9,
   "metadata": {},
   "outputs": [],
   "source": [
    "def gen_data(ps_fun,\n",
    "             x_to_y_con,\n",
    "             x_to_y_bin,\n",
    "             n = 1000,\n",
    "             p = 5,\n",
    "             d = 2,\n",
    "             eigval = None,\n",
    "             sig_sq = 1):\n",
    "\n",
    "    \"\"\" Generate data for a simulation study\n",
    "\n",
    "    Parameters\n",
    "    ----------\n",
    "    n : int\n",
    "        Number of data points\n",
    "    p : int\n",
    "        Number of features\n",
    "    d : int\n",
    "        Number of discrete features\n",
    "    eigval : array of shape (p,)\n",
    "        Eigenvalues of the covariance matrix of the features\n",
    "    ps_fun : function\n",
    "        function that maps features to P(treatment|features)\n",
    "    x_to_y_con : function\n",
    "        function that maps features and treatment to the conditional mean of a continuous outcome\n",
    "        ie. E[Y_con|X, T]\n",
    "    sig_sq : float\n",
    "        Variance parameter determining noise added to the continuous outcome\n",
    "    x_to_y_bin : function\n",
    "        function that maps features and treatment to the conditional mean of a binary outcome\n",
    "        ie. E[Y_bin|X, T]\n",
    "\n",
    "    Returns\n",
    "    -------\n",
    "    X : array of shape (n, p)\n",
    "        Features matrix with d discrete features and p-d log-noramally distributed features\n",
    "    T : array of shape (n,)\n",
    "        Treatment\n",
    "    Y_con : array of shape (n,)\n",
    "        Continuous outcome\n",
    "    Y_bin : array of shape (n,)\n",
    "        Binary outcome\n",
    "\n",
    "    Example\n",
    "    -------\n",
    "    X, T, Y_con, Y_bin = gen_data(ps_fun = ps_fun,\n",
    "                                  x_to_y_con = x_to_y_con,\n",
    "                                  x_to_y_bin = x_to_y_bin,\n",
    "                                  n = 1000,\n",
    "                                  p = 5,\n",
    "                                  d = 2,\n",
    "                                  eigval = None,\n",
    "                                  sig_sq = 1)\n",
    "\"\"\"\n",
    "\n",
    "    if eigval is None:\n",
    "        # Generate eigenvalues for the covariance matrix\n",
    "        eigval =  1 + np.arange(1, p + 1) * .2 \n",
    "\n",
    "    # sample an orthogonal matrix\n",
    "    O = ortho_group.rvs(dim=len(eigval))\n",
    "\n",
    "    # Create a variance-covariance matrix\n",
    "    Sigma = O.dot(np.diag(eigval)).dot(O.T)\n",
    "\n",
    "    # Sample from a multivariate normal distribution with mean 0 and covariance matrix O diag(eigval) O^T\n",
    "    X = np.random.multivariate_normal(np.zeros(len(eigval)), Sigma, size=n)\n",
    "\n",
    "    # Discretize the the first d features\n",
    "    X[:, 0:d] = (X[:, 0:2] > 0).astype(int)\n",
    "\n",
    "    # Exponentiate the remaining features for log-normality\n",
    "    X[:, d:] = np.exp(X[:, d:])\n",
    "\n",
    "    # Generate the treatment\n",
    "    T = np.random.binomial(1, ps_fun(X))\n",
    "\n",
    "    # Generate a continuous outcome\n",
    "    Y_con = x_to_y_con(X, T) + np.random.normal(0, sig_sq, size=len(X))\n",
    "\n",
    "    # Generate a binary outcome\n",
    "    Y_bin = np.random.binomial(1, x_to_y_bin(X, T))\n",
    "\n",
    "    return X, T, Y_con, Y_bin"
   ]
  },
  {
   "cell_type": "markdown",
   "metadata": {},
   "source": [
    "Modify the following functions according to taste."
   ]
  },
  {
   "cell_type": "code",
   "execution_count": 10,
   "metadata": {},
   "outputs": [],
   "source": [
    "def base_fun(X):\n",
    "    # baseline risk function\n",
    "    # here, basline risk depends on all features\n",
    "    mask_mat = np.ones((X.shape[0], X.shape[1]))\n",
    "    mask_mat[:, ::2] = -1\n",
    "\n",
    "    return np.log(1 + np.exp((mask_mat * X).sum(axis=1)))\n",
    "\n",
    "def cate_fun(X):\n",
    "    # conditional average treatment effect function\n",
    "    # here, the treatment response depends only on the third feature\n",
    "    return np.log(1+np.exp(X[:,3]))\n",
    "\n",
    "def ps_fun(X, rct=False):\n",
    "    # propensity score function\n",
    "    if rct:\n",
    "        # constant ps\n",
    "        ps = np.array([.5] * len(X))\n",
    "    else:\n",
    "        # propensity score depends on all features\n",
    "        mask_mat = np.ones((X.shape[0], X.shape[1]))\n",
    "        mask_mat[:, ::2] = -1 \n",
    "        ps = 1 / (1 + np.exp(-(mask_mat * X).sum(axis=1)))\n",
    "    return ps"
   ]
  },
  {
   "cell_type": "markdown",
   "metadata": {},
   "source": [
    "Do not modify the function below (there's no need for that as they call the functions we specified above)."
   ]
  },
  {
   "cell_type": "code",
   "execution_count": 11,
   "metadata": {},
   "outputs": [],
   "source": [
    "def x_to_y_con(X, T):\n",
    "    # map X, T to E[Y_con|X, T] (edit functions above not this one)\n",
    "    # mean continuous outcome is the sum of the baseline risk, the treatment response\n",
    "    return base_fun(X) + T * cate_fun(X)\n",
    "\n",
    "def x_to_y_bin(X, T):\n",
    "    # map X, T to E[Y_bin|X, T] (edit functions above not this one)\n",
    "    # the risk is expit of the sum of the baseline risk, the treatment response\n",
    "    risk = expit(base_fun(X) + T * cate_fun(X))\n",
    "    return risk"
   ]
  },
  {
   "cell_type": "markdown",
   "metadata": {},
   "source": [
    "### Generate data and put it into a pandas dataframe"
   ]
  },
  {
   "cell_type": "code",
   "execution_count": 12,
   "metadata": {},
   "outputs": [
    {
     "data": {
      "text/html": [
       "<div>\n",
       "<style scoped>\n",
       "    .dataframe tbody tr th:only-of-type {\n",
       "        vertical-align: middle;\n",
       "    }\n",
       "\n",
       "    .dataframe tbody tr th {\n",
       "        vertical-align: top;\n",
       "    }\n",
       "\n",
       "    .dataframe thead th {\n",
       "        text-align: right;\n",
       "    }\n",
       "</style>\n",
       "<table border=\"1\" class=\"dataframe\">\n",
       "  <thead>\n",
       "    <tr style=\"text-align: right;\">\n",
       "      <th></th>\n",
       "      <th>X0</th>\n",
       "      <th>X1</th>\n",
       "      <th>X2</th>\n",
       "      <th>X3</th>\n",
       "      <th>X4</th>\n",
       "      <th>T</th>\n",
       "      <th>Y_con</th>\n",
       "      <th>Y_bin</th>\n",
       "    </tr>\n",
       "  </thead>\n",
       "  <tbody>\n",
       "    <tr>\n",
       "      <th>0</th>\n",
       "      <td>1.0</td>\n",
       "      <td>1.0</td>\n",
       "      <td>0.816712</td>\n",
       "      <td>1.848563</td>\n",
       "      <td>0.624857</td>\n",
       "      <td>1</td>\n",
       "      <td>3.204673</td>\n",
       "      <td>1</td>\n",
       "    </tr>\n",
       "    <tr>\n",
       "      <th>1</th>\n",
       "      <td>1.0</td>\n",
       "      <td>0.0</td>\n",
       "      <td>0.565606</td>\n",
       "      <td>4.206493</td>\n",
       "      <td>0.358123</td>\n",
       "      <td>1</td>\n",
       "      <td>5.067240</td>\n",
       "      <td>1</td>\n",
       "    </tr>\n",
       "    <tr>\n",
       "      <th>2</th>\n",
       "      <td>1.0</td>\n",
       "      <td>0.0</td>\n",
       "      <td>1.078380</td>\n",
       "      <td>1.288420</td>\n",
       "      <td>0.588879</td>\n",
       "      <td>0</td>\n",
       "      <td>0.718580</td>\n",
       "      <td>0</td>\n",
       "    </tr>\n",
       "    <tr>\n",
       "      <th>3</th>\n",
       "      <td>1.0</td>\n",
       "      <td>1.0</td>\n",
       "      <td>1.529514</td>\n",
       "      <td>0.306141</td>\n",
       "      <td>0.628285</td>\n",
       "      <td>0</td>\n",
       "      <td>1.077617</td>\n",
       "      <td>0</td>\n",
       "    </tr>\n",
       "    <tr>\n",
       "      <th>4</th>\n",
       "      <td>1.0</td>\n",
       "      <td>1.0</td>\n",
       "      <td>1.512353</td>\n",
       "      <td>3.344154</td>\n",
       "      <td>0.253662</td>\n",
       "      <td>1</td>\n",
       "      <td>2.614962</td>\n",
       "      <td>1</td>\n",
       "    </tr>\n",
       "    <tr>\n",
       "      <th>5</th>\n",
       "      <td>1.0</td>\n",
       "      <td>1.0</td>\n",
       "      <td>0.409098</td>\n",
       "      <td>0.072014</td>\n",
       "      <td>0.245086</td>\n",
       "      <td>0</td>\n",
       "      <td>1.145942</td>\n",
       "      <td>0</td>\n",
       "    </tr>\n",
       "    <tr>\n",
       "      <th>6</th>\n",
       "      <td>0.0</td>\n",
       "      <td>1.0</td>\n",
       "      <td>6.667946</td>\n",
       "      <td>0.431721</td>\n",
       "      <td>0.174976</td>\n",
       "      <td>0</td>\n",
       "      <td>1.213971</td>\n",
       "      <td>0</td>\n",
       "    </tr>\n",
       "    <tr>\n",
       "      <th>7</th>\n",
       "      <td>0.0</td>\n",
       "      <td>0.0</td>\n",
       "      <td>0.482697</td>\n",
       "      <td>0.779777</td>\n",
       "      <td>0.713012</td>\n",
       "      <td>1</td>\n",
       "      <td>2.625985</td>\n",
       "      <td>1</td>\n",
       "    </tr>\n",
       "    <tr>\n",
       "      <th>8</th>\n",
       "      <td>1.0</td>\n",
       "      <td>0.0</td>\n",
       "      <td>1.395346</td>\n",
       "      <td>1.596176</td>\n",
       "      <td>0.910386</td>\n",
       "      <td>0</td>\n",
       "      <td>0.435983</td>\n",
       "      <td>1</td>\n",
       "    </tr>\n",
       "    <tr>\n",
       "      <th>9</th>\n",
       "      <td>0.0</td>\n",
       "      <td>0.0</td>\n",
       "      <td>26.010855</td>\n",
       "      <td>0.280641</td>\n",
       "      <td>1.098458</td>\n",
       "      <td>0</td>\n",
       "      <td>-0.716396</td>\n",
       "      <td>0</td>\n",
       "    </tr>\n",
       "  </tbody>\n",
       "</table>\n",
       "</div>"
      ],
      "text/plain": [
       "    X0   X1         X2        X3        X4  T     Y_con  Y_bin\n",
       "0  1.0  1.0   0.816712  1.848563  0.624857  1  3.204673      1\n",
       "1  1.0  0.0   0.565606  4.206493  0.358123  1  5.067240      1\n",
       "2  1.0  0.0   1.078380  1.288420  0.588879  0  0.718580      0\n",
       "3  1.0  1.0   1.529514  0.306141  0.628285  0  1.077617      0\n",
       "4  1.0  1.0   1.512353  3.344154  0.253662  1  2.614962      1\n",
       "5  1.0  1.0   0.409098  0.072014  0.245086  0  1.145942      0\n",
       "6  0.0  1.0   6.667946  0.431721  0.174976  0  1.213971      0\n",
       "7  0.0  0.0   0.482697  0.779777  0.713012  1  2.625985      1\n",
       "8  1.0  0.0   1.395346  1.596176  0.910386  0  0.435983      1\n",
       "9  0.0  0.0  26.010855  0.280641  1.098458  0 -0.716396      0"
      ]
     },
     "execution_count": 12,
     "metadata": {},
     "output_type": "execute_result"
    }
   ],
   "source": [
    "import pandas as pd\n",
    "\n",
    "# Generate data\n",
    "X, T, Y_con, Y_bin = gen_data(ps_fun = ps_fun,\n",
    "                              x_to_y_con = x_to_y_con,\n",
    "                              x_to_y_bin = x_to_y_bin,\n",
    "                              n = 10000,\n",
    "                              p = 5,\n",
    "                              d = 2,\n",
    "                              eigval = None,\n",
    "                              sig_sq = 1)\n",
    "\n",
    "# Put the features into a dictionary \n",
    "dict_df = {f\"X{i}\":X[:,i] for i in range(X.shape[1])}\n",
    "\n",
    "# Add the treatment and outcomes to the dictionary\n",
    "dict_df.update({\"T\":T, \"Y_con\":Y_con, \"Y_bin\":Y_bin})\n",
    "\n",
    "# Create a pandas dataframe\n",
    "pd.DataFrame(dict_df)\n",
    "\n",
    "# Look at the first 10 rows\n",
    "pd.DataFrame(dict_df).head(10)"
   ]
  },
  {
   "cell_type": "markdown",
   "metadata": {},
   "source": [
    "Note that for your own study, you would need to add a seed for reproducibility.\n",
    "Before getting there, I recommend to *NOT* use a seed so that we can have a sense of the variability our code produces."
   ]
  },
  {
   "cell_type": "markdown",
   "metadata": {},
   "source": [
    "## References"
   ]
  },
  {
   "cell_type": "markdown",
   "metadata": {},
   "source": [
    "This data generating process is inspired by:\n",
    "- For the generation of clinical features: <br>\n",
    "*[Fold-stratified cross-validation for unbiased and privacy-preserving federated learning.](https://academic.oup.com/jamia/article-abstract/27/8/1244/5867235?redirectedFrom=fulltext)* R Bey et al. JAMIA 2020.\n",
    "-  For the non parametric functions base, cate, and propensity score <br>\n",
    "*[Quasi-oracle estimation of heterogeneous treatment effects.](https://academic.oup.com/biomet/article-abstract/108/2/299/5911092)* X Nie and S Wager. Biometrika 2021. "
   ]
  }
 ],
 "metadata": {
  "kernelspec": {
   "display_name": "base",
   "language": "python",
   "name": "python3"
  },
  "language_info": {
   "codemirror_mode": {
    "name": "ipython",
    "version": 3
   },
   "file_extension": ".py",
   "mimetype": "text/x-python",
   "name": "python",
   "nbconvert_exporter": "python",
   "pygments_lexer": "ipython3",
   "version": "3.11.7"
  }
 },
 "nbformat": 4,
 "nbformat_minor": 2
}
